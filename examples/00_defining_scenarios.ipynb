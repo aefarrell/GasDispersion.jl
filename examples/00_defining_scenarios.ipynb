{
 "cells": [
  {
   "cell_type": "markdown",
   "id": "dc489d2a-551a-4142-b785-02926a885316",
   "metadata": {},
   "source": [
    "# Defining Release Scenarios\n",
    "\n",
    "The whole point of `GasDispersion.jl` is to model chemical releases into the atmosphere, to do this one needs to have a defined chemical release scenario. \n",
    "\n",
    "The default is to assume the release is a jet of material issuing from a single point, emitting a constant mass emission rate for a given release duration. The coordinate system is such that the release point is at *x=0*, *y=0*, *z=h* where *x* is the downwind distance, *y* the cross wind distance, and *z* the elevation. \n",
    "\n",
    "<a title=\"Mbeychok, CC BY-SA 3.0 &lt;http://creativecommons.org/licenses/by-sa/3.0/&gt;, via Wikimedia Commons\" href=\"https://commons.wikimedia.org/wiki/File:Gaussian_Plume.png\"><img alt=\"Gaussian Plume\" src=\"https://upload.wikimedia.org/wikipedia/commons/1/10/Gaussian_Plume.png\"></a>\n",
    "\n",
    "<a href=\"https://commons.wikimedia.org/wiki/File:Gaussian_Plume.png\">Mbeychok</a>, <a href=\"http://creativecommons.org/licenses/by-sa/3.0/\">CC BY-SA 3.0</a>, via Wikimedia Commons\n",
    "\n",
    "The gas dispersion models require the following parameters to be defined for a given scenario:\n",
    "\n",
    "- mass emission rate, kg/s\n",
    "- release duration, s\n",
    "- jet diameter, m\n",
    "- jet velocity, m/s\n",
    "- jet density, kg/m³\n",
    "- release pressure, Pa\n",
    "- release temperature, K\n",
    "- release height, m\n",
    "- windspeed, m/s\n",
    "- ambient density, kg/m³\n",
    "- ambient pressure, Pa\n",
    "- ambient temperature, K\n",
    "- pasquill stability class\n",
    "\n",
    "Standard methods given:\n",
    "+ *Lee's Loss Prevention in the Process Industries*\n",
    "+ CCPS *Guidelines for Consequence Analysis of Chemical Releases*\n",
    "+ CCPS *Guidelines for Chemical Process Quantitative Risk Analysis*\n",
    "+ CCPS *Guidelines for Vapour Cloud Explosion, Pressure Vessel Burst, BLEVE and Flash Fire Hazards*\n",
    "\n",
    "and many other texts on chemical process safety can be used to determine all of these parameters and a `Scenario` created directly."
   ]
  },
  {
   "cell_type": "code",
   "execution_count": 2,
   "id": "699f57e8-5d76-4aa6-9b94-15423934e402",
   "metadata": {},
   "outputs": [],
   "source": [
    "using GasDispersion"
   ]
  },
  {
   "cell_type": "code",
   "execution_count": 3,
   "id": "523054e9-0966-4db6-9a8c-988cf5c04a3b",
   "metadata": {},
   "outputs": [
    {
     "data": {
      "text/plain": [
       "Atmospheric conditions:\n",
       "    pressure: 101325 Pa \n",
       "    temperature: 298.15 K \n",
       "    density: 1.225 kg/m^3 \n",
       "    windspeed: 1.5 m/s \n",
       "    stability: F  \n",
       "    \n",
       "Release conditions:\n",
       "    mass_rate: 1.0 kg/s \n",
       "    duration: 10.0 s \n",
       "    diameter: 0.25 m \n",
       "    velocity: 15.67 m/s \n",
       "    height: 1.0 m \n",
       "    pressure: 101325 Pa \n",
       "    temperature: 450 K \n",
       "    density: 1.3 kg/m^3 \n",
       "    "
      ]
     },
     "execution_count": 3,
     "metadata": {},
     "output_type": "execute_result"
    }
   ],
   "source": [
    "release = Release(mass_rate=1.0,\n",
    "                  duration=10.0,\n",
    "                  diameter=0.25,\n",
    "                  velocity=15.67,\n",
    "                  height=1.0,\n",
    "                  pressure=101325,\n",
    "                  temperature=450,\n",
    "                  density=1.3)\n",
    "\n",
    "scenario = Scenario(release,Ambient())"
   ]
  },
  {
   "cell_type": "markdown",
   "id": "879c7d7b-1905-4946-951e-609040ee89d0",
   "metadata": {},
   "source": [
    "`GasDispersion` also comes with some basic tools for constructing simple release scenarios for common situations"
   ]
  },
  {
   "cell_type": "markdown",
   "id": "82afe776-4a03-45f7-ba38-ab6fcc47f6e2",
   "metadata": {},
   "source": [
    "## Hole Discharge\n",
    "The simplest release case is a release from a hole, where the hole is treated as a circular orifice of negligible length.\n",
    "\n",
    "### Liquid Phase\n",
    "A liquid jet through a small hole can be modeled by the Bernoulli equation, with the jet velocity given by\n",
    "\n",
    "$$ u_j = c_d  \\sqrt{ 2 \\left( P_1 - P_2 \\over \\rho_l \\right) } $$\n",
    "\n",
    "where\n",
    "- $u_j$ is the jet velocity, m/s\n",
    "- $c_d$ the discharge coefficient, unitless\n",
    "- $P_1$ the pressure upstream of the hole\n",
    "- $P_2$ the ambient pressure, Pa, i.e. the pressure outside the hole\n",
    "- $\\rho_l$ the liquid density, kg/m³\n",
    "\n",
    "the mass emission rate is then given by\n",
    "$$ \\dot{m} = \\rho_l u_j A$$\n",
    "\n",
    "where $A$ is the cross-sectional area of the hole, in m²"
   ]
  },
  {
   "cell_type": "markdown",
   "id": "72bb9841-ea10-4041-b5b7-9241c40ed751",
   "metadata": {},
   "source": [
    "#### Example\n",
    "\n",
    "This scenario is adapted from CCPS *Guidelines for Consequence Analysis of Chemical Releases*, CCPS, pg 40.\n",
    "\n",
    "Suppose a leak of a liquid from a storage tank through a hole. The tank headspace is at 0.1 barg and there is 2 m of liquid head above the hole. The liquid has a density of 490 kg/m³, and is in thermal equilibrium with the environment. Assume a circular hole with a discharge coefficient of 0.63 and a diameter of 1cm.\n",
    "\n",
    "For ambient conditions we assume the atmosphere is at standard conditions of 1atm and 25°C, with a windspeed of 1.5m/s and class F stability.\n",
    "\n",
    "Assumptions:\n",
    "- discharge coefficient, $c_d = 0.63 $\n",
    "- diameter of the hole, $d = 0.010 \\textrm{m}$\n",
    "- liquid density, $\\rho_l = 490 \\textrm{kg/m}^3$\n",
    "- liquid temperature, $T_1 = 298.15 \\textrm{K}$\n",
    "- ambient pressure, $P_2 = 101325 \\textrm{Pa}$\n",
    "- ambient temperature, $T_2 = 298.15 \\textrm{K}$\n",
    "- density of air at ambient conditions, $\\rho_a = 1.225 \\textrm{kg/m}^3$\n",
    "- ambient windspeed, $u = 1.5 \\textrm{m/s}$"
   ]
  },
  {
   "cell_type": "code",
   "execution_count": 4,
   "id": "e9b731f0-3eef-4425-9654-6e1423075ee0",
   "metadata": {},
   "outputs": [
    {
     "data": {
      "text/plain": [
       "\"F\""
      ]
     },
     "execution_count": 4,
     "metadata": {},
     "output_type": "execute_result"
    }
   ],
   "source": [
    "# What we know\n",
    "c_d = 0.63\n",
    "d = 0.010    #m\n",
    "ρₗ = 490.0    #kg/m³\n",
    "T₁ = 298.15   #K\n",
    "P₂ = 101325.0 #Pa\n",
    "T₂ = 298.15   #K\n",
    "ρₐ = 1.225    #kg/m³\n",
    "u  = 1.5      #m/s\n",
    "stability = \"F\""
   ]
  },
  {
   "cell_type": "markdown",
   "id": "5e3a1ab3-d4ff-48ff-8c39-855889ab1e18",
   "metadata": {},
   "source": [
    "What we need to solve for is\n",
    "- $P_r$, the release pressure, Pa,\n",
    "- $u_j$, the jet velocity, m/s\n",
    "- $\\dot{m}$, the mass emission rate, kg/s\n",
    "\n",
    "The pressure immediately inside the liquid discharge is the sum of the headspace pressure and the pressure due to the 2 m of liquid head and is\n",
    "\n",
    "$$ P_r = P_{headspace} + \\rho_j g h $$\n",
    "$$ P_r = (10000 Pa + 101325 Pa) + 490 kg/m³ \\cdot 9.80616 m/s² \\cdot 2 m $$"
   ]
  },
  {
   "cell_type": "code",
   "execution_count": 5,
   "id": "59151b4f-702e-4e1e-b92b-975424e47a87",
   "metadata": {},
   "outputs": [
    {
     "data": {
      "text/plain": [
       "120935.0368"
      ]
     },
     "execution_count": 5,
     "metadata": {},
     "output_type": "execute_result"
    }
   ],
   "source": [
    "g  = 9.80616  # gravitational acceleration, m/s²\n",
    "\n",
    "P₁ = (10000 + P₂) + ρₗ*g*2"
   ]
  },
  {
   "cell_type": "markdown",
   "id": "3a360ab5-3c96-4ee6-8331-b83eee7a9014",
   "metadata": {},
   "source": [
    "The jet velocity comes from the Bernoulli equation\n",
    "\n",
    "$$ u_j = c_d  \\sqrt{ 2 \\left( P_1 - P_2 \\over \\rho_l \\right) } $$"
   ]
  },
  {
   "cell_type": "code",
   "execution_count": 6,
   "id": "e511eec7-c193-4324-bc84-c10cef69a8dd",
   "metadata": {},
   "outputs": [
    {
     "data": {
      "text/plain": [
       "5.636333880812954"
      ]
     },
     "execution_count": 6,
     "metadata": {},
     "output_type": "execute_result"
    }
   ],
   "source": [
    "uⱼ = c_d * √( 2*( (P₁ - P₂) / ρₗ) )"
   ]
  },
  {
   "cell_type": "markdown",
   "id": "05bbef50-cea5-4a4e-ab8d-7671e1da045e",
   "metadata": {},
   "source": [
    "We are assuming a circular hole so the cross sectional area is just\n",
    "\n",
    "$$ A = {\\pi \\over 4} d^2 $$"
   ]
  },
  {
   "cell_type": "code",
   "execution_count": 7,
   "id": "b57c8c1d-0950-4677-80f3-79875f634457",
   "metadata": {},
   "outputs": [
    {
     "data": {
      "text/plain": [
       "7.853981633974483e-5"
      ]
     },
     "execution_count": 7,
     "metadata": {},
     "output_type": "execute_result"
    }
   ],
   "source": [
    "A = (π/4)*d^2"
   ]
  },
  {
   "cell_type": "markdown",
   "id": "de8794c0-e325-4b72-8528-cd443d5fd921",
   "metadata": {},
   "source": [
    "and the mass emission rate is given by the equation\n",
    "$$ \\dot{m} = \\rho_l u_j A$$"
   ]
  },
  {
   "cell_type": "code",
   "execution_count": 8,
   "id": "76d44e46-92b3-4315-ba34-19dedc706df3",
   "metadata": {},
   "outputs": [
    {
     "data": {
      "text/plain": [
       "0.21691154763598"
      ]
     },
     "execution_count": 8,
     "metadata": {},
     "output_type": "execute_result"
    }
   ],
   "source": [
    "m = ρₗ*uⱼ*A"
   ]
  },
  {
   "cell_type": "markdown",
   "id": "424181a9-89b2-4311-a8a2-a075601d96dd",
   "metadata": {
    "tags": []
   },
   "source": [
    "we can now put this all together to make a release scenario, ready for modeling:"
   ]
  },
  {
   "cell_type": "code",
   "execution_count": 9,
   "id": "29c81387-bba2-48ef-87f7-674ed40afa69",
   "metadata": {
    "tags": []
   },
   "outputs": [
    {
     "data": {
      "text/plain": [
       "Atmospheric conditions:\n",
       "    pressure: 101325.0 Pa \n",
       "    temperature: 298.15 K \n",
       "    density: 1.225 kg/m^3 \n",
       "    windspeed: 1.5 m/s \n",
       "    stability: F  \n",
       "    \n",
       "Release conditions:\n",
       "    mass_rate: 0.21691154763598 kg/s \n",
       "    duration: Inf s \n",
       "    diameter: 0.01 m \n",
       "    velocity: 5.636333880812954 m/s \n",
       "    height: 1 m \n",
       "    pressure: 101325.0 Pa \n",
       "    temperature: 298.15 K \n",
       "    density: 490.0 kg/m^3 \n",
       "    "
      ]
     },
     "execution_count": 9,
     "metadata": {},
     "output_type": "execute_result"
    }
   ],
   "source": [
    "release = Release(mass_rate=m,\n",
    "                  duration=Inf,\n",
    "                  diameter=d,\n",
    "                  velocity=uⱼ,\n",
    "                  height=1,\n",
    "                  pressure=P₂,\n",
    "                  temperature=T₁,\n",
    "                  density=ρₗ)\n",
    "\n",
    "atmosphere = Ambient(pressure=P₂,\n",
    "                     temperature=T₂,\n",
    "                     density=ρₐ,\n",
    "                     windspeed=u,\n",
    "                     stability=\"F\")\n",
    "\n",
    "s1 = Scenario(release,atmosphere)"
   ]
  },
  {
   "cell_type": "markdown",
   "id": "2410805a-56c5-4f58-8c59-079defc50fd1",
   "metadata": {},
   "source": [
    "The helper function `scenario_builder` does basically this, which simplifies the workflow immensly. All one needs to do is supply some basic information and, using default values for ambient conditions, a release scenario is generated."
   ]
  },
  {
   "cell_type": "code",
   "execution_count": 10,
   "id": "31f2221e-11e7-4895-8a29-7482d80d3649",
   "metadata": {},
   "outputs": [
    {
     "data": {
      "text/plain": [
       "Atmospheric conditions:\n",
       "    pressure: 101325.0 Pa \n",
       "    temperature: 298.15 K \n",
       "    density: 1.225 kg/m^3 \n",
       "    windspeed: 1.5 m/s \n",
       "    stability: F  \n",
       "    \n",
       "Release conditions:\n",
       "    mass_rate: 0.21691154763598 kg/s \n",
       "    duration: Inf s \n",
       "    diameter: 0.01 m \n",
       "    velocity: 5.636333880812954 m/s \n",
       "    height: 1 m \n",
       "    pressure: 101325.0 Pa \n",
       "    temperature: 298.15 K \n",
       "    density: 490.0 kg/m^3 \n",
       "    "
      ]
     },
     "execution_count": 10,
     "metadata": {},
     "output_type": "execute_result"
    }
   ],
   "source": [
    "source=JetSource(phase=:liquid, dischargecoef=c_d, diameter=d,\n",
    "            pressure=P₁, temperature=T₁, density=ρₗ,height=1)\n",
    "\n",
    "s2 = scenario_builder(source, atmosphere)"
   ]
  },
  {
   "cell_type": "code",
   "execution_count": 11,
   "id": "cc395363-4de3-4fb2-baf1-7bb932535774",
   "metadata": {
    "jupyter": {
     "source_hidden": true
    },
    "tags": []
   },
   "outputs": [
    {
     "data": {
      "text/plain": [
       "true"
      ]
     },
     "execution_count": 11,
     "metadata": {},
     "output_type": "execute_result"
    }
   ],
   "source": [
    "s1 ≈ s2"
   ]
  },
  {
   "cell_type": "markdown",
   "id": "cb2d790e-fa85-41e3-9130-e0b3e2af1643",
   "metadata": {},
   "source": [
    "### Gas Phase\n",
    "\n",
    "A gas jet release, where the gas is ideal and the expansion through the jet is an isentropic process, can be modeled using a modified Bernoulli equation, with\n",
    "\n",
    "$$ G = \\rho u = c_d \\sqrt{ \\rho_1 P_1 \\left( 2 k \\over k-1 \\right) \\left[ \\left(P_2 \\over P_1\\right)^{2 \\over k} - \\left(P_2 \\over P_1\\right)^{k+1 \\over k} \\right]} $$\n",
    "\n",
    "for non-choked flow and\n",
    "\n",
    "$$ G = c_d \\sqrt{ \\rho_1 P_1 k \\left( 2 \\over k+1 \\right)^{k+1 \\over k-1} } $$\n",
    "\n",
    "for choked flow, which occurs when\n",
    "\n",
    "$$ \\left(P_2 \\over P_1 \\right) \\lt \\left( 2 \\over k+1 \\right)^{k \\over k-1} $$\n",
    "\n",
    "where\n",
    "- $G$ is the mass velocity, kg/m²s\n",
    "- $c_d$ the discharge coefficient, unitless\n",
    "- $k$ is the ratio of heat capacities, cp/cv, unitless\n",
    "- $P_1$ the pressure upstream of the hole\n",
    "- $\\rho_1$ the gas density upstream of the hole, kg/m³\n",
    "- $P_2$ the ambient pressure, Pa, i.e. the pressure outside the hole\n",
    "\n",
    "the mass emission rate is then given by\n",
    "$$ \\dot{m} = G A$$\n",
    "\n",
    "where $A$ is the cross-sectional area of the hole, in m²\n",
    "\n",
    "The properties of the jet immediately at the exit of the orifice are then given by\n",
    "$$ {\\rho_o \\over \\rho_1} = \\left( P_o \\over P_1 \\right)^{1 \\over k} $$\n",
    "$$ {T_o \\over T_1} = \\left( P_o \\over P_1 \\right)^{k-1 \\over k}$$"
   ]
  },
  {
   "cell_type": "markdown",
   "id": "815c79d5-218b-432e-8e09-f4664fab9e21",
   "metadata": {
    "tags": []
   },
   "source": [
    "#### Example\n",
    "\n",
    "This scenario is adapted from CCPS *Guidelines for Consequence Analysis of Chemical Releases*, CCPS, pg 47\n",
    "\n",
    "Suppose a leak of propane through a 1cm hole with a temperature of 25C and pressure of 4barg. The hole is 1m above the ground and has a discharge coefficient of 0.85. The heat capacity ratio for propane is $k=1.15$ The atmosphere is otherwise at ambient conditions.\n",
    "\n",
    "Assumptions:\n",
    "- discharge coefficient, $c_d = 0.85 $\n",
    "- heat capacity ratio, $k = 1.15$\n",
    "- molar weight, $Mw = 44.097 \\textrm{kg/kmol}$\n",
    "- diameter of the hole, $d = 0.010 \\textrm{m}$\n",
    "- vessel temperature, $T_1 = 298.15 \\textrm{K}$\n",
    "- vessel pressure, $P_1 = 4 \\textrm{barg}$\n",
    "- ambient pressure, $P_2 = 101325 \\textrm{Pa}$\n",
    "- ambient temperature, $T_2 = 298.15 \\textrm{K}$\n",
    "- density of air at ambient conditions, $\\rho_a = 1.225 \\textrm{kg/m}^3$\n",
    "- ambient windspeed, $u = 1.5 \\textrm{m/s}$"
   ]
  },
  {
   "cell_type": "code",
   "execution_count": 12,
   "id": "ae2a78dd-ce4e-41d6-a5ae-6dd65f4a986f",
   "metadata": {},
   "outputs": [
    {
     "data": {
      "text/plain": [
       "1.5"
      ]
     },
     "execution_count": 12,
     "metadata": {},
     "output_type": "execute_result"
    }
   ],
   "source": [
    "c_d = 0.85\n",
    "k   = 1.15\n",
    "Mw  = 44.097\n",
    "d   = 0.010\n",
    "\n",
    "# ambient conditions\n",
    "P₂  = 101325\n",
    "T₂  = 298.15\n",
    "ρₐ  = 1.225\n",
    "u   = 1.5"
   ]
  },
  {
   "cell_type": "markdown",
   "id": "e552d0fb-efb9-48e0-a1ef-7f272842543e",
   "metadata": {},
   "source": [
    "First we determine the absolute pressure and gas density at point *1* (using the ideal gas law)\n",
    "\n",
    "$$ \\rho_1 = { Mw P_1 \\over R T_1 } $$"
   ]
  },
  {
   "cell_type": "code",
   "execution_count": 13,
   "id": "72669038-f488-4ed4-aede-426d711cb508",
   "metadata": {},
   "outputs": [
    {
     "data": {
      "text/plain": [
       "8.917834500965851"
      ]
     },
     "execution_count": 13,
     "metadata": {},
     "output_type": "execute_result"
    }
   ],
   "source": [
    "R  = 8.31446261815324 #m³⋅kPa⋅K⁻¹⋅kmol⁻¹\n",
    "\n",
    "T₁ = T₂\n",
    "P₁ = 4e5 + P₂\n",
    "ρ₁ = (Mw*P₁)/(R*T₁)/1000"
   ]
  },
  {
   "cell_type": "markdown",
   "id": "9596bd37-e1f5-4386-9da0-286d507f904b",
   "metadata": {},
   "source": [
    "We check if the flow is sonic (choked)\n",
    "$$ \\left(P_2 \\over P_1 \\right) \\lt \\left( 2 \\over k+1 \\right)^{k \\over k-1} $$"
   ]
  },
  {
   "cell_type": "code",
   "execution_count": 14,
   "id": "3e0b9c17-9406-4fdf-b4f5-2bc2249af1b1",
   "metadata": {},
   "outputs": [
    {
     "data": {
      "text/plain": [
       "true"
      ]
     },
     "execution_count": 14,
     "metadata": {},
     "output_type": "execute_result"
    }
   ],
   "source": [
    "(P₂/P₁) < (2/(k+1))^(k/(k-1))"
   ]
  },
  {
   "cell_type": "markdown",
   "id": "b4ed6f98-eefd-4355-9da6-7cd76e694d1c",
   "metadata": {},
   "source": [
    "Therefore the pressure at the orifice is given by\n",
    "$$ {P_o \\over P_1} = \\eta = \\left( 2 \\over k+1 \\right)^{k \\over k-1} $$"
   ]
  },
  {
   "cell_type": "code",
   "execution_count": 15,
   "id": "59901a5f-a2e9-4bd8-8d22-39dfd942ef1b",
   "metadata": {},
   "outputs": [
    {
     "data": {
      "text/plain": [
       "287952.6877282304"
      ]
     },
     "execution_count": 15,
     "metadata": {},
     "output_type": "execute_result"
    }
   ],
   "source": [
    "η  = (2/(k+1))^(k/(k-1))\n",
    "Pₒ = η*P₁"
   ]
  },
  {
   "cell_type": "markdown",
   "id": "7e50518d-43df-4b66-863b-3c0110e0eec0",
   "metadata": {},
   "source": [
    "The mass velocity is given by\n",
    "$$ G = c_d \\sqrt{ \\rho_1 P_1 k \\left( 2 \\over k+1 \\right)^{k+1 \\over k-1} } $$"
   ]
  },
  {
   "cell_type": "code",
   "execution_count": 16,
   "id": "b44989c5-4876-468c-8d94-d8d02171caef",
   "metadata": {},
   "outputs": [
    {
     "data": {
      "text/plain": [
       "1147.7921164988413"
      ]
     },
     "execution_count": 16,
     "metadata": {},
     "output_type": "execute_result"
    }
   ],
   "source": [
    "G = c_d * √(ρ₁*P₁*k*(2/(k+1))^((k+1)/(k-1)) )"
   ]
  },
  {
   "cell_type": "markdown",
   "id": "4dcf527e-af79-4307-b54b-536590894792",
   "metadata": {},
   "source": [
    "From which we can calculate the mass discharge rate and velocity"
   ]
  },
  {
   "cell_type": "code",
   "execution_count": 17,
   "id": "0fd6edb9-92b3-4f29-87b8-49ef64383245",
   "metadata": {},
   "outputs": [
    {
     "data": {
      "text/plain": [
       "0.090147382026026"
      ]
     },
     "execution_count": 17,
     "metadata": {},
     "output_type": "execute_result"
    }
   ],
   "source": [
    "A  = (π/4)*d^2\n",
    "m  = G*A"
   ]
  },
  {
   "cell_type": "code",
   "execution_count": 18,
   "id": "8a1260cf-9623-4508-a01b-691c4eba3f71",
   "metadata": {},
   "outputs": [
    {
     "data": {
      "text/plain": [
       "208.4460121106216"
      ]
     },
     "execution_count": 18,
     "metadata": {},
     "output_type": "execute_result"
    }
   ],
   "source": [
    "ρₒ = ρ₁*η^(1/k)\n",
    "uₒ = G/ρₒ"
   ]
  },
  {
   "cell_type": "code",
   "execution_count": 19,
   "id": "307e2981-4983-4155-808a-d07ee67b85b0",
   "metadata": {},
   "outputs": [
    {
     "data": {
      "text/plain": [
       "277.3488372093023"
      ]
     },
     "execution_count": 19,
     "metadata": {},
     "output_type": "execute_result"
    }
   ],
   "source": [
    "Tₒ = T₁*η^((k-1)/k)"
   ]
  },
  {
   "cell_type": "markdown",
   "id": "02875dc8-9179-424f-80a7-2bc48794a00d",
   "metadata": {
    "tags": []
   },
   "source": [
    "we can now put this all together to make a release scenario, ready for modeling:"
   ]
  },
  {
   "cell_type": "code",
   "execution_count": 20,
   "id": "5f454e0b-36e4-452b-8fa0-189dc4b6fb6b",
   "metadata": {
    "tags": []
   },
   "outputs": [
    {
     "data": {
      "text/plain": [
       "Atmospheric conditions:\n",
       "    pressure: 101325 Pa \n",
       "    temperature: 298.15 K \n",
       "    density: 1.225 kg/m^3 \n",
       "    windspeed: 1.5 m/s \n",
       "    stability: F  \n",
       "    \n",
       "Release conditions:\n",
       "    mass_rate: 0.090147382026026 kg/s \n",
       "    duration: Inf s \n",
       "    diameter: 0.01 m \n",
       "    velocity: 208.4460121106216 m/s \n",
       "    height: 1 m \n",
       "    pressure: 287952.6877282304 Pa \n",
       "    temperature: 277.3488372093023 K \n",
       "    density: 5.506423965020313 kg/m^3 \n",
       "    "
      ]
     },
     "execution_count": 20,
     "metadata": {},
     "output_type": "execute_result"
    }
   ],
   "source": [
    "release = Release(mass_rate=m,\n",
    "                  duration=Inf,\n",
    "                  diameter=d,\n",
    "                  velocity=uₒ,\n",
    "                  height=1,\n",
    "                  pressure=Pₒ,\n",
    "                  temperature=Tₒ,\n",
    "                  density=ρₒ)\n",
    "\n",
    "atmosphere = Ambient(pressure=P₂,\n",
    "                     temperature=T₂,\n",
    "                     density=ρₐ,\n",
    "                     windspeed=u,\n",
    "                     stability=\"F\")\n",
    "\n",
    "s1 = Scenario(release,atmosphere)"
   ]
  },
  {
   "cell_type": "markdown",
   "id": "6d1081e3-fee9-4260-bebb-3d6e772c38b3",
   "metadata": {},
   "source": [
    "The helper function `scenario_builder` does basically this, which simplifies the workflow immensly. All one needs to do is supply some basic information and, using default values for ambient conditions, a release scenario is generated."
   ]
  },
  {
   "cell_type": "code",
   "execution_count": 21,
   "id": "7970b565-a49e-4f11-842b-740fe4ba4b84",
   "metadata": {},
   "outputs": [
    {
     "data": {
      "text/plain": [
       "Atmospheric conditions:\n",
       "    pressure: 101325 Pa \n",
       "    temperature: 298.15 K \n",
       "    density: 1.225 kg/m^3 \n",
       "    windspeed: 1.5 m/s \n",
       "    stability: F  \n",
       "    \n",
       "Release conditions:\n",
       "    mass_rate: 0.09014738202602605 kg/s \n",
       "    duration: Inf s \n",
       "    diameter: 0.01 m \n",
       "    velocity: 208.44601211062175 m/s \n",
       "    height: 1 m \n",
       "    pressure: 287952.6877282304 Pa \n",
       "    temperature: 277.3488372093023 K \n",
       "    density: 5.506423965020313 kg/m^3 \n",
       "    "
      ]
     },
     "execution_count": 21,
     "metadata": {},
     "output_type": "execute_result"
    }
   ],
   "source": [
    "source=JetSource(phase=:gas, dischargecoef=c_d, k=1.15, diameter=d,\n",
    "            pressure=P₁, temperature=T₁, density=ρ₁, height=1)\n",
    "\n",
    "s2 = scenario_builder(source, atmosphere)"
   ]
  },
  {
   "cell_type": "code",
   "execution_count": 22,
   "id": "bc667aee-5538-442c-be8d-389144f27616",
   "metadata": {
    "tags": []
   },
   "outputs": [
    {
     "data": {
      "text/plain": [
       "true"
      ]
     },
     "execution_count": 22,
     "metadata": {},
     "output_type": "execute_result"
    }
   ],
   "source": [
    "s1 ≈ s2"
   ]
  },
  {
   "cell_type": "code",
   "execution_count": null,
   "id": "f686dd95-99b0-40f7-87c8-4b49735016e1",
   "metadata": {},
   "outputs": [],
   "source": []
  }
 ],
 "metadata": {
  "kernelspec": {
   "display_name": "Julia 1.7.2",
   "language": "julia",
   "name": "julia-1.7"
  },
  "language_info": {
   "file_extension": ".jl",
   "mimetype": "application/julia",
   "name": "julia",
   "version": "1.7.2"
  },
  "toc-autonumbering": true
 },
 "nbformat": 4,
 "nbformat_minor": 5
}
