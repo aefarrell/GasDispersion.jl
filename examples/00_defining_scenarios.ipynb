{
 "cells": [
  {
   "cell_type": "markdown",
   "id": "aa47b8ca-38b8-4254-8759-4ba5df6d5a41",
   "metadata": {},
   "source": [
    "# Defining Release Scenarios\n",
    "\n",
    "The whole point of `GasDispersion.jl` is to model chemical releases into the atmosphere, to do this one needs to have a defined chemical release scenario. "
   ]
  },
  {
   "cell_type": "markdown",
   "id": "f06d5ca2-9b48-4063-9e7b-9c8cfce9b642",
   "metadata": {},
   "source": [
    "## A Note on the Coordinate System\n",
    "\n",
    "In general releases are assumed to originate from a single point, with the coordinate system is such that the release point is at *x=0*, *y=0*, *z=h* where *x* is the downwind distance, *y* the cross wind distance, and *z* the elevation and *h* is the height of the release point.\n",
    "\n",
    "<a title=\"Mbeychok, CC BY-SA 3.0 &lt;http://creativecommons.org/licenses/by-sa/3.0/&gt;, via Wikimedia Commons\" href=\"https://commons.wikimedia.org/wiki/File:Gaussian_Plume.png\"><img alt=\"Gaussian Plume\" src=\"https://upload.wikimedia.org/wikipedia/commons/1/10/Gaussian_Plume.png\"></a>\n",
    "\n",
    "<a href=\"https://commons.wikimedia.org/wiki/File:Gaussian_Plume.png\">Mbeychok</a>, <a href=\"http://creativecommons.org/licenses/by-sa/3.0/\">CC BY-SA 3.0</a>, via Wikimedia Commons"
   ]
  },
  {
   "cell_type": "markdown",
   "id": "7d858b0b-b61e-4c17-96c8-f39719350bad",
   "metadata": {},
   "source": [
    "## Defining a Scenario\n",
    "\n",
    "This scenario is adapted from CCPS *Guidelines for Consequence Analysis of Chemical Releases*, CCPS, pg 40.\n",
    "\n",
    "Suppose we are evaluating the consequences of a leak from a propane storage tank. For the purposes of this suppose it is liquid propane. The leak is from a 10mm hole situated 1m above the ground and the tank head-space is pressurized to 0.1barg with 2m of liquid propane above the hole.\n",
    "\n",
    "To start with we define the `Substance` with the [properties of propane](https://webbook.nist.gov/cgi/inchi/InChI%3D1S/C3H8/c1-3-2/h3H2%2C1-2H3)"
   ]
  },
  {
   "cell_type": "code",
   "execution_count": 1,
   "id": "1eacea0a-be59-44d4-ac96-532dd0c23501",
   "metadata": {},
   "outputs": [],
   "source": [
    "using GasDispersion"
   ]
  },
  {
   "cell_type": "code",
   "execution_count": 2,
   "id": "7d6df25b-46a4-4be0-9739-d5663a7740ad",
   "metadata": {},
   "outputs": [
    {
     "data": {
      "text/plain": [
       "Substance: propane \n"
      ]
     },
     "execution_count": 2,
     "metadata": {},
     "output_type": "execute_result"
    }
   ],
   "source": [
    "propane = Substance(name = :propane,\n",
    "                    gas_density = 2.6371,          # Propane, NIST Webbook\n",
    "                    liquid_density = 578.38,       # Propane, NIST Webbook\n",
    "                    reference_temp= 233.19,\n",
    "                    reference_pressure= 111325.0,\n",
    "                    boiling_temp = 233.19,         # Propane, NIST Webbook\n",
    "                    latent_heat = 16.25/44.0956,   # Propane, NIST Webbook\n",
    "                    gas_heat_capacity = 1.4528,    # Propane, NIST Webbook\n",
    "                    liquid_heat_capacity = 2.2560) # Propane, NIST Webbook"
   ]
  },
  {
   "cell_type": "markdown",
   "id": "6909a6f5-d054-4ad9-9d6f-ed70b22d0586",
   "metadata": {},
   "source": [
    "Suppose we have already worked out that:\n",
    "- the liquid is at the boiling point, 233.19 K\n",
    "- the pressure after the release is ambient, 101325 Pa\n",
    "- the liquid is jetting out at velocity of 5.41 m/s,\n",
    "- the mass emission rate of 0.246 kg/s, \n",
    "- the jet is just pure liquid. \n",
    "\n",
    "We have enough information to define the *release*"
   ]
  },
  {
   "cell_type": "code",
   "execution_count": 3,
   "id": "523054e9-0966-4db6-9a8c-988cf5c04a3b",
   "metadata": {},
   "outputs": [
    {
     "data": {
      "text/plain": [
       "Release conditions:\n",
       "    ṁ: 0.246 kg/s \n",
       "    Δt: Inf s \n",
       "    d: 0.01 m \n",
       "    u: 5.41 m/s \n",
       "    h: 1.0 m \n",
       "    P: 101325 Pa \n",
       "    T: 233.19 K \n",
       "    f_l: 1.0  \n"
      ]
     },
     "execution_count": 3,
     "metadata": {},
     "output_type": "execute_result"
    }
   ],
   "source": [
    "rel = Release(mass_rate = 0.246, # kg/s\n",
    "              duration = Inf, # assuming a continuous release\n",
    "              diameter = 0.01, # m\n",
    "              velocity = 5.41, # m/s\n",
    "              height = 1.0, # m\n",
    "              pressure = 101325, # Pa\n",
    "              temperature = 233.19, # K\n",
    "              fraction_liquid = 1.0)"
   ]
  },
  {
   "cell_type": "markdown",
   "id": "a654ed16-ecbc-4d27-9161-0a2adcdc7135",
   "metadata": {},
   "source": [
    "Now we need to define the `Atmosphere` into which the `Substance` is being `Release`d, the default assumption is a simple model of dry air (zero humidity) which acts like an ideal gas, at ambient conditions (25 C and 1 atm), with windspeed of 1.5 m/s (measured at 10 m) and a class F atmospheric stability."
   ]
  },
  {
   "cell_type": "code",
   "execution_count": 4,
   "id": "9e4e7e9e-d12f-4d58-82fe-910c9d5ab1cb",
   "metadata": {},
   "outputs": [
    {
     "data": {
      "text/plain": [
       "Atmospheric conditions:\n",
       "    P: 101325 Pa \n",
       "    T: 298.15 K \n",
       "    Rs: 287.0500676 J/kg/K \n",
       "    u: 1.5 m/s \n",
       "    h: 10 m \n",
       "    stability: ClassF  \n"
      ]
     },
     "execution_count": 4,
     "metadata": {},
     "output_type": "execute_result"
    }
   ],
   "source": [
    "# this is equivalent to DryAir()\n",
    "atm = DryAir(pressure = 101325, # Pa\n",
    "             temperature = 298.15, # K\n",
    "             windspeed = 1.5, # m/s\n",
    "             stability = ClassF) # can be ClassA, ..., ClassF"
   ]
  },
  {
   "cell_type": "markdown",
   "id": "5c7563d6-9c36-4e6f-a5af-58af1c76d7c5",
   "metadata": {},
   "source": [
    "The `Scenario` is then the combination of a substance, release, and atmosphere:"
   ]
  },
  {
   "cell_type": "code",
   "execution_count": 5,
   "id": "5ded4ab0-9cc9-4ded-a472-552dd8f63a02",
   "metadata": {},
   "outputs": [
    {
     "data": {
      "text/plain": [
       "Substance: propane \n",
       "Release conditions:\n",
       "    ṁ: 0.246 kg/s \n",
       "    Δt: Inf s \n",
       "    d: 0.01 m \n",
       "    u: 5.41 m/s \n",
       "    h: 1.0 m \n",
       "    P: 101325 Pa \n",
       "    T: 233.19 K \n",
       "    f_l: 1.0  \n",
       "Atmospheric conditions:\n",
       "    P: 101325 Pa \n",
       "    T: 298.15 K \n",
       "    Rs: 287.0500676 J/kg/K \n",
       "    u: 1.5 m/s \n",
       "    h: 10 m \n",
       "    stability: ClassF  \n"
      ]
     },
     "execution_count": 5,
     "metadata": {},
     "output_type": "execute_result"
    }
   ],
   "source": [
    "scn = Scenario(substance = propane,\n",
    "               release = rel,\n",
    "               atmosphere = atm)"
   ]
  },
  {
   "cell_type": "markdown",
   "id": "879c7d7b-1905-4946-951e-609040ee89d0",
   "metadata": {},
   "source": [
    "`GasDispersion` also comes with some basic tools for constructing simple release scenarios for common situations"
   ]
  },
  {
   "cell_type": "markdown",
   "id": "82afe776-4a03-45f7-ba38-ab6fcc47f6e2",
   "metadata": {},
   "source": [
    "## Hole Discharge\n",
    "\n",
    "Defining scenarios by working out all of the details yourself can get rather tedious. Instead we could have used a simple jet model assuming a circular hole of negligible length.\n",
    "\n",
    "### Liquid Jet\n",
    "\n",
    "In this case we are assuming the jet is purely a liquid. First we need to calculate the pressure at the hole, which is simply the pressure in the tank head space plus the liquid head above the hole."
   ]
  },
  {
   "cell_type": "code",
   "execution_count": 6,
   "id": "e3f3d8b9-fe37-470b-becb-1eb0d5494430",
   "metadata": {},
   "outputs": [
    {
     "data": {
      "text/plain": [
       "122668.3736416"
      ]
     },
     "execution_count": 6,
     "metadata": {},
     "output_type": "execute_result"
    }
   ],
   "source": [
    "P_atm = 101325 # Pa\n",
    "P_head = 0.1e5 # 0.1 barg\n",
    "\n",
    "g  = 9.80616 # m/s^2, gravitational acceleration\n",
    "ρₗ = 578.38 # kg/m^3, liquid propane\n",
    "hₗ = 2 # m, height of liquid above the hole\n",
    "\n",
    "P1_gauge = P_head + ρₗ*g*hₗ\n",
    "P1 = P1_gauge + P_atm"
   ]
  },
  {
   "cell_type": "markdown",
   "id": "273c62af-8197-451c-8b0f-069036a6f230",
   "metadata": {},
   "source": [
    "Then we can use `scenario_builder` to generate a `Scenario` for us, given a substance and the atmosphere.\n",
    "\n",
    "The remaining parameters of the release are calculated assuming the Bernoulli equation for a liquid jet\n",
    "\n",
    "$$u_j = c_d  \\sqrt{ 2 \\left( P_1 - P_2 \\over \\rho_l \\right) }$$\n",
    "\n",
    "where the hole is assumed to be circular, with a default discharge coefficient of 0.63."
   ]
  },
  {
   "cell_type": "code",
   "execution_count": 7,
   "id": "29c81387-bba2-48ef-87f7-674ed40afa69",
   "metadata": {
    "tags": []
   },
   "outputs": [
    {
     "data": {
      "text/plain": [
       "Substance: propane \n",
       "Release conditions:\n",
       "    ṁ: 0.24585757618480786 kg/s \n",
       "    Δt: Inf s \n",
       "    d: 0.01 m \n",
       "    u: 5.412282381327767 m/s \n",
       "    h: 1.0 m \n",
       "    P: 101325 Pa \n",
       "    T: 233.19 K \n",
       "    f_l: 1.0  \n",
       "Atmospheric conditions:\n",
       "    P: 101325 Pa \n",
       "    T: 298.15 K \n",
       "    Rs: 287.0500676 J/kg/K \n",
       "    u: 1.5 m/s \n",
       "    h: 10 m \n",
       "    stability: ClassF  \n"
      ]
     },
     "execution_count": 7,
     "metadata": {},
     "output_type": "execute_result"
    }
   ],
   "source": [
    "scn = scenario_builder(propane, JetSource, atm; \n",
    "       phase = :liquid, # can be either :liquid or :gas \n",
    "       diameter = 0.01, # m\n",
    "       pressure = P1, # Pa\n",
    "       temperature = 233.19, # K\n",
    "       height = 1.0) # m, height of hole above the ground"
   ]
  },
  {
   "cell_type": "markdown",
   "id": "a74e97f0-d834-4d6b-8a1f-64d68bf62c59",
   "metadata": {},
   "source": [
    "If you are content to use the default atmosphere, this can be simplified to"
   ]
  },
  {
   "cell_type": "code",
   "execution_count": 8,
   "id": "2b904ba6-1ccb-49a5-8203-562d2fc47a4b",
   "metadata": {},
   "outputs": [
    {
     "data": {
      "text/plain": [
       "Substance: propane \n",
       "Release conditions:\n",
       "    ṁ: 0.24585757618480786 kg/s \n",
       "    Δt: Inf s \n",
       "    d: 0.01 m \n",
       "    u: 5.412282381327767 m/s \n",
       "    h: 1.0 m \n",
       "    P: 101325 Pa \n",
       "    T: 233.19 K \n",
       "    f_l: 1.0  \n",
       "Atmospheric conditions:\n",
       "    P: 101325 Pa \n",
       "    T: 298.15 K \n",
       "    Rs: 287.0500676 J/kg/K \n",
       "    u: 1.5 m/s \n",
       "    h: 10 m \n",
       "    stability: ClassF  \n"
      ]
     },
     "execution_count": 8,
     "metadata": {},
     "output_type": "execute_result"
    }
   ],
   "source": [
    "scn = scenario_builder(propane, JetSource; \n",
    "       phase = :liquid, # can be either :liquid or :gas \n",
    "       diameter = 0.01, # m\n",
    "       pressure = P1, # Pa\n",
    "       temperature = 233.19, # K\n",
    "       height = 1.0) # m, height of hole above the ground"
   ]
  },
  {
   "cell_type": "markdown",
   "id": "cb2d790e-fa85-41e3-9130-e0b3e2af1643",
   "metadata": {},
   "source": [
    "### Gas Phase\n",
    "\n",
    "Suppose instead that we are interested in a leak from the top of the tank, say at a height of 3.5 m, where the jet will be pure gas. A simple model for an isentropic nozzle using an ideal gas can be used to model the release.\n",
    "\n",
    "In this case the mass velocity is calculated assuming a modified Bernoulli equation, which for non-choked flow is:\n",
    "\n",
    "$$ G = \\rho u = c_d \\sqrt{ \\rho_1 P_1 \\left( 2 k \\over k-1 \\right) \\left[ \\left(P_2 \\over P_1\\right)^{2 \\over k} - \\left(P_2 \\over P_1\\right)^{k+1 \\over k} \\right]} $$\n",
    "\n",
    "and for choked flow is:\n",
    "\n",
    "$$ G = c_d \\sqrt{ \\rho_1 P_1 k \\left( 2 \\over k+1 \\right)^{k+1 \\over k-1} } $$\n",
    "\n",
    "where flow is choked when:\n",
    "\n",
    "$$ \\left(P_2 \\over P_1 \\right) \\lt \\left( 2 \\over k+1 \\right)^{k \\over k-1} $$\n",
    "\n",
    "The relations for isentropic flow of an ideal gas are used to calculate the release temperature, and pressure as well.\n",
    "\n",
    "The model similarly assumes that the hole is circular and uses a default discharge coefficient of 0.63 (which can be overridden if you wish)"
   ]
  },
  {
   "cell_type": "code",
   "execution_count": 9,
   "id": "f686dd95-99b0-40f7-87c8-4b49735016e1",
   "metadata": {},
   "outputs": [
    {
     "data": {
      "text/plain": [
       "Substance: propane \n",
       "Release conditions:\n",
       "    ṁ: 0.01080282197060049 kg/s \n",
       "    Δt: Inf s \n",
       "    d: 0.01 m \n",
       "    u: 55.785065462005136 m/s \n",
       "    h: 3.5 m \n",
       "    P: 101325.0 Pa \n",
       "    T: 227.00270856767614 K \n",
       "    f_l: 0.0  \n",
       "Atmospheric conditions:\n",
       "    P: 101325 Pa \n",
       "    T: 298.15 K \n",
       "    Rs: 287.0500676 J/kg/K \n",
       "    u: 1.5 m/s \n",
       "    h: 10 m \n",
       "    stability: ClassF  \n"
      ]
     },
     "execution_count": 9,
     "metadata": {},
     "output_type": "execute_result"
    }
   ],
   "source": [
    "scn = scenario_builder(propane, JetSource; \n",
    "       phase = :gas, # can be either :liquid or :gas \n",
    "       diameter = 0.01, # m\n",
    "       pressure = P_head+P_atm, # Pa\n",
    "       temperature = 233.19, # K\n",
    "       height = 3.5) # m, height of hole above the ground"
   ]
  },
  {
   "cell_type": "markdown",
   "id": "8f6f928b-1129-44b2-b15a-3d220e11d803",
   "metadata": {},
   "source": [
    "At this point the scenario can be passed to the `plume` function to generate a solution with the specified dispersion model"
   ]
  },
  {
   "cell_type": "code",
   "execution_count": null,
   "id": "5aa40dae-1f1a-49f5-a525-0fe894fc7b11",
   "metadata": {},
   "outputs": [],
   "source": []
  }
 ],
 "metadata": {
  "kernelspec": {
   "display_name": "Julia 1.8.2",
   "language": "julia",
   "name": "julia-1.8"
  },
  "language_info": {
   "file_extension": ".jl",
   "mimetype": "application/julia",
   "name": "julia",
   "version": "1.8.2"
  },
  "toc-autonumbering": true
 },
 "nbformat": 4,
 "nbformat_minor": 5
}
