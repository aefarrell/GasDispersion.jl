{
 "cells": [
  {
   "cell_type": "markdown",
   "id": "dc489d2a-551a-4142-b785-02926a885316",
   "metadata": {},
   "source": [
    "# Defining Release Scenarios\n",
    "\n",
    "The whole point of `GasDispersion.jl` is to model chemical releases into the atmosphere, to do this one needs to have a defined chemical release scenario. \n",
    "\n",
    "The default is to assume the release is a jet of material issuing from a single point, emitting a constant mass emission rate for a given release duration. The coordinate system is such that the release point is at *x=0*, *y=0*, *z=h* where *x* is the downwind distance, *y* the cross wind distance, and *z* the elevation. \n",
    "\n",
    "<a title=\"Mbeychok, CC BY-SA 3.0 &lt;http://creativecommons.org/licenses/by-sa/3.0/&gt;, via Wikimedia Commons\" href=\"https://commons.wikimedia.org/wiki/File:Gaussian_Plume.png\"><img alt=\"Gaussian Plume\" src=\"https://upload.wikimedia.org/wikipedia/commons/1/10/Gaussian_Plume.png\"></a>\n",
    "\n",
    "<a href=\"https://commons.wikimedia.org/wiki/File:Gaussian_Plume.png\">Mbeychok</a>, <a href=\"http://creativecommons.org/licenses/by-sa/3.0/\">CC BY-SA 3.0</a>, via Wikimedia Commons\n",
    "\n",
    "The gas dispersion models require the following parameters to be defined for a given scenario:\n",
    "\n",
    "- mass emission rate, kg/s\n",
    "- release duration, s\n",
    "- jet diameter, m\n",
    "- jet velocity, m/s\n",
    "- jet density, kg/m³\n",
    "- release pressure, Pa\n",
    "- release temperature, K\n",
    "- release height, m\n",
    "- windspeed, m/s\n",
    "- ambient density, kg/m³\n",
    "- ambient pressure, Pa\n",
    "- ambient temperature, K\n",
    "- pasquill stability class\n",
    "\n",
    "Standard methods given:\n",
    "+ *Lee's Loss Prevention in the Process Industries*\n",
    "+ CCPS *Guidelines for Consequence Analysis of Chemical Releases*\n",
    "+ CCPS *Guidelines for Chemical Process Quantitative Risk Analysis*\n",
    "+ CCPS *Guidelines for Vapour Cloud Explosion, Pressure Vessel Burst, BLEVE and Flash Fire Hazards*\n",
    "\n",
    "and many other texts on chemical process safety can be used to determine all of these parameters and a `Scenario` created directly."
   ]
  },
  {
   "cell_type": "code",
   "execution_count": 2,
   "id": "699f57e8-5d76-4aa6-9b94-15423934e402",
   "metadata": {},
   "outputs": [],
   "source": [
    "using GasDispersion"
   ]
  },
  {
   "cell_type": "code",
   "execution_count": 3,
   "id": "523054e9-0966-4db6-9a8c-988cf5c04a3b",
   "metadata": {},
   "outputs": [
    {
     "data": {
      "text/plain": [
       "Release scenario:\n",
       "    mass_emission_rate: 1.0 kg/s \n",
       "    release_duration: 10.0 s \n",
       "    jet_diameter: 0.25 m \n",
       "    jet_velocity: 15.67 m/s \n",
       "    jet_density: 1.3 kg/m^3 \n",
       "    release_pressure: 101325 Pa \n",
       "    release_temperature: 450 K \n",
       "    release_height: 1.0 m \n",
       "    windspeed: 1.5 m/s \n",
       "    ambient_density: 1.225 kg/m^3 \n",
       "    ambient_pressure: 101325 Pa \n",
       "    ambient_temperature: 298.15 K \n",
       "    pasquill_gifford: F  \n",
       "    "
      ]
     },
     "execution_count": 3,
     "metadata": {},
     "output_type": "execute_result"
    }
   ],
   "source": [
    "scenario = Scenario(\n",
    "    1.0,   # mass emission rate, kg/s\n",
    "    10.0,  # release duration, s\n",
    "    0.25,  # jet diameter, m\n",
    "    15.67, # jet velocity, m/s\n",
    "    1.3,   # jet density, kg/m³\n",
    "    101325,# release_pressure, Pa\n",
    "    450,   # release temperature, K\n",
    "    1.0,   # release height, m\n",
    "    1.5,   # windspeed, m/s\n",
    "    1.225, # ambient density, kg/m³\n",
    "    101325,# ambient pressure, Pa\n",
    "    298.15,# ambient temperature, K\n",
    "    \"F\",   # pasquill stability class\n",
    ")"
   ]
  },
  {
   "cell_type": "markdown",
   "id": "7a1aa4b7-638a-45a4-803f-fb8efb61e8b7",
   "metadata": {},
   "source": [
    "Or by passing a dictionary with the known values (missing values will be set to `missing`)"
   ]
  },
  {
   "cell_type": "code",
   "execution_count": 4,
   "id": "9f84781c-7a0b-45cc-896c-e0af29e9e722",
   "metadata": {},
   "outputs": [
    {
     "data": {
      "text/plain": [
       "Release scenario:\n",
       "    mass_emission_rate: missing kg/s \n",
       "    release_duration: missing s \n",
       "    jet_diameter: missing m \n",
       "    jet_velocity: missing m/s \n",
       "    jet_density: missing kg/m^3 \n",
       "    release_pressure: 101325.0 Pa \n",
       "    release_temperature: 298.15 K \n",
       "    release_height: missing m \n",
       "    windspeed: missing m/s \n",
       "    ambient_density: 1.225 kg/m^3 \n",
       "    ambient_pressure: 101325.0 Pa \n",
       "    ambient_temperature: 298.15 K \n",
       "    pasquill_gifford: missing  \n",
       "    "
      ]
     },
     "execution_count": 4,
     "metadata": {},
     "output_type": "execute_result"
    }
   ],
   "source": [
    "d = Dict([\n",
    "    :release_pressure => 101325,   # Pa\n",
    "    :release_temperature => 298.15,# K\n",
    "    :ambient_density => 1.225,     # kg/m^3\n",
    "    :ambient_pressure => 101325,   # Pa\n",
    "    :ambient_temperature => 298.15,# K\n",
    "])\n",
    "\n",
    "scenario = Scenario(d)"
   ]
  },
  {
   "cell_type": "markdown",
   "id": "1ff7943f-bd92-4c93-ab3a-4bbbf1f67260",
   "metadata": {},
   "source": [
    "Or by passing an existing scenario, and replacing some parameters using keyword arguments"
   ]
  },
  {
   "cell_type": "code",
   "execution_count": 5,
   "id": "aa00d52a-94b1-4d1f-afa5-cd29a9cc3c38",
   "metadata": {},
   "outputs": [
    {
     "data": {
      "text/plain": [
       "Release scenario:\n",
       "    mass_emission_rate: 1.0 kg/s \n",
       "    release_duration: 10.0 s \n",
       "    jet_diameter: missing m \n",
       "    jet_velocity: missing m/s \n",
       "    jet_density: missing kg/m^3 \n",
       "    release_pressure: 101325.0 Pa \n",
       "    release_temperature: 298.15 K \n",
       "    release_height: missing m \n",
       "    windspeed: missing m/s \n",
       "    ambient_density: 1.225 kg/m^3 \n",
       "    ambient_pressure: 101325.0 Pa \n",
       "    ambient_temperature: 298.15 K \n",
       "    pasquill_gifford: missing  \n",
       "    "
      ]
     },
     "execution_count": 5,
     "metadata": {},
     "output_type": "execute_result"
    }
   ],
   "source": [
    "scenario = Scenario(scenario; mass_emission_rate=1.0, release_duration=10.0)"
   ]
  },
  {
   "cell_type": "markdown",
   "id": "44397967-af1d-4e62-993c-643187e701a4",
   "metadata": {},
   "source": [
    "`GasDispersion` also comes with some basic tools for constructing simple release scenarios for common situations\n",
    "\n",
    "## Flow through an orifice\n",
    "The easiest type of release scenario to model is flow through an orifice or hole, for example a puncture in the side of a process vessel.\n",
    "\n",
    "### Liquid Jet\n",
    "A liquid jet through a small hole can be modeled by the Bernoulli equation, with the jet velocity given by\n",
    "\n",
    "$$ u_j = c_d  \\sqrt{ 2 \\left( P_r - P_a \\over \\rho_l \\right) } $$\n",
    "\n",
    "where\n",
    "- $u_j$ is the jet velocity, m/s\n",
    "- $c_d$ the discharge coefficient, unitless\n",
    "- $P_r$ the release pressure, Pa, i.e. the pressure inside the vessel at the hole\n",
    "- $P_a$ the ambient pressure, Pa, i.e. the pressure outside the hole\n",
    "- $\\rho_l$ the liquid density, kg/m³\n",
    "\n",
    "the mass emission rate is then given by\n",
    "$$ \\dot{m} = \\rho_l A_h u_j $$\n",
    "\n",
    "where $A_h$ is the cross-sectional area of the hole, in m²"
   ]
  },
  {
   "cell_type": "markdown",
   "id": "72bb9841-ea10-4041-b5b7-9241c40ed751",
   "metadata": {},
   "source": [
    "#### Example\n",
    "\n",
    "This scenario is adapted from CCPS *Guidelines for Consequence Analysis of Chemical Releases*, CCPS, pg 40.\n",
    "\n",
    "Suppose a leak of a liquid from a storage tank through a hole. The tank headspace is at 0.1 barg and there is 2 m of liquid head above the hole. The liquid has a density of 490 kg/m³, and is in thermal equilibrium with the environment. Assume a circular hole with a discharge coefficient of 0.63 and a diameter of 1cm.\n",
    "\n",
    "For ambient conditions we assume the atmosphere is at standard conditions of 1atm and 25°C, with a windspeed of 1.5m/s and class F stability.\n",
    "\n",
    "Assumptions:\n",
    "- discharge coefficient, $c_d = 0.63 $\n",
    "- diameter of the hole, $d_j = 0.010 \\textrm{m}$\n",
    "- liquid density, $\\rho_j = \\rho_l = 490 \\textrm{kg/m}^3$\n",
    "- liquid temperature, $T_r = 298.15 \\textrm{K}$\n",
    "- standard pressure, $P_a = 101325 \\textrm{Pa}$\n",
    "- standard temperature, $T_a = 298.15 \\textrm{K}$\n",
    "- density of air at standard conditions, $\\rho_a = 1.225 \\textrm{kg/m}^3$\n",
    "- ambient windspeed, $u = 1.5 \\textrm{m/s}$"
   ]
  },
  {
   "cell_type": "code",
   "execution_count": 6,
   "id": "e9b731f0-3eef-4425-9654-6e1423075ee0",
   "metadata": {},
   "outputs": [
    {
     "data": {
      "text/plain": [
       "\"F\""
      ]
     },
     "execution_count": 6,
     "metadata": {},
     "output_type": "execute_result"
    }
   ],
   "source": [
    "# What we know\n",
    "cd = 0.63\n",
    "dⱼ = 0.010    #m\n",
    "ρⱼ = 490.0    #kg/m³\n",
    "Tᵣ = 298.15   #K\n",
    "Pₐ = 101325.0 #Pa\n",
    "Tₐ = 298.15   #K\n",
    "ρₐ = 1.225    #kg/m³\n",
    "u  = 1.5      #m/s\n",
    "stability = \"F\""
   ]
  },
  {
   "cell_type": "markdown",
   "id": "5e3a1ab3-d4ff-48ff-8c39-855889ab1e18",
   "metadata": {},
   "source": [
    "What we need to solve for is\n",
    "- $P_r$, the release pressure, Pa,\n",
    "- $u_j$, the jet velocity, m/s\n",
    "- $\\dot{m}$, the mass emission rate, kg/s\n",
    "\n",
    "The pressure immediately inside the liquid discharge is the sum of the headspace pressure and the pressure due to the 2 m of liquid head and is\n",
    "\n",
    "$$ P_r = P_{headspace} + \\rho_j g h $$\n",
    "$$ P_r = (10000 Pa + 101325 Pa) + 490 kg/m³ \\cdot 9.80616 m/s² \\cdot 2 m $$"
   ]
  },
  {
   "cell_type": "code",
   "execution_count": 7,
   "id": "59151b4f-702e-4e1e-b92b-975424e47a87",
   "metadata": {},
   "outputs": [
    {
     "data": {
      "text/plain": [
       "120935.0368"
      ]
     },
     "execution_count": 7,
     "metadata": {},
     "output_type": "execute_result"
    }
   ],
   "source": [
    "g  = 9.80616  # gravitational acceleration, m/s²\n",
    "\n",
    "Pᵣ = (10000 + Pₐ) + ρⱼ*g*2"
   ]
  },
  {
   "cell_type": "markdown",
   "id": "3a360ab5-3c96-4ee6-8331-b83eee7a9014",
   "metadata": {},
   "source": [
    "The jet velocity comes from the Bernoulli equation\n",
    "\n",
    "$$ u_j = c_d  \\sqrt{ 2 \\left( P_r - P_a \\over \\rho_l \\right) } $$"
   ]
  },
  {
   "cell_type": "code",
   "execution_count": 8,
   "id": "e511eec7-c193-4324-bc84-c10cef69a8dd",
   "metadata": {},
   "outputs": [
    {
     "data": {
      "text/plain": [
       "5.636333880812954"
      ]
     },
     "execution_count": 8,
     "metadata": {},
     "output_type": "execute_result"
    }
   ],
   "source": [
    "uⱼ = cd * √( 2*( (Pᵣ - Pₐ) / ρⱼ) )"
   ]
  },
  {
   "cell_type": "markdown",
   "id": "05bbef50-cea5-4a4e-ab8d-7671e1da045e",
   "metadata": {},
   "source": [
    "We are assuming a circular hole so the cross sectional area is just\n",
    "\n",
    "$$ A_h = {\\pi \\over 4} d_j^2 $$"
   ]
  },
  {
   "cell_type": "code",
   "execution_count": 9,
   "id": "b57c8c1d-0950-4677-80f3-79875f634457",
   "metadata": {},
   "outputs": [
    {
     "data": {
      "text/plain": [
       "7.853981633974483e-5"
      ]
     },
     "execution_count": 9,
     "metadata": {},
     "output_type": "execute_result"
    }
   ],
   "source": [
    "Aₕ = (π/4)*dⱼ^2"
   ]
  },
  {
   "cell_type": "markdown",
   "id": "de8794c0-e325-4b72-8528-cd443d5fd921",
   "metadata": {},
   "source": [
    "and the mass emission rate is given by the equation\n",
    "$$ \\dot{m} = \\rho_l A_h u_j $$"
   ]
  },
  {
   "cell_type": "code",
   "execution_count": 10,
   "id": "76d44e46-92b3-4315-ba34-19dedc706df3",
   "metadata": {},
   "outputs": [
    {
     "data": {
      "text/plain": [
       "0.21691154763598"
      ]
     },
     "execution_count": 10,
     "metadata": {},
     "output_type": "execute_result"
    }
   ],
   "source": [
    "m = ρⱼ*Aₕ*uⱼ"
   ]
  },
  {
   "cell_type": "markdown",
   "id": "424181a9-89b2-4311-a8a2-a075601d96dd",
   "metadata": {},
   "source": [
    "we can now put this all together to make a release scenario, ready for modeling:"
   ]
  },
  {
   "cell_type": "code",
   "execution_count": 11,
   "id": "29c81387-bba2-48ef-87f7-674ed40afa69",
   "metadata": {},
   "outputs": [
    {
     "data": {
      "text/plain": [
       "Release scenario:\n",
       "    mass_emission_rate: 0.21691154763598 kg/s \n",
       "    release_duration: missing s \n",
       "    jet_diameter: 0.01 m \n",
       "    jet_velocity: 5.636333880812954 m/s \n",
       "    jet_density: 490.0 kg/m^3 \n",
       "    release_pressure: 120935.0368 Pa \n",
       "    release_temperature: 298.15 K \n",
       "    release_height: 0.0 m \n",
       "    windspeed: 1.5 m/s \n",
       "    ambient_density: 1.225 kg/m^3 \n",
       "    ambient_pressure: 101325.0 Pa \n",
       "    ambient_temperature: 298.15 K \n",
       "    pasquill_gifford: F  \n",
       "    "
      ]
     },
     "execution_count": 11,
     "metadata": {},
     "output_type": "execute_result"
    }
   ],
   "source": [
    "s = Dict([\n",
    "    :mass_emission_rate => m,\n",
    "    :jet_diameter => dⱼ,\n",
    "    :jet_velocity => uⱼ,\n",
    "    :jet_density => ρⱼ,\n",
    "    :release_pressure => Pᵣ,\n",
    "    :release_temperature => Tᵣ,\n",
    "    :release_height => 0.0,\n",
    "    :windspeed => u,\n",
    "    :ambient_density => ρₐ,\n",
    "    :ambient_pressure => Pₐ,\n",
    "    :ambient_temperature => Tₐ,\n",
    "    :pasquill_gifford => stability\n",
    "])\n",
    "\n",
    "scenario_1 = Scenario(s)"
   ]
  },
  {
   "cell_type": "markdown",
   "id": "2410805a-56c5-4f58-8c59-079defc50fd1",
   "metadata": {},
   "source": [
    "The helper function `scenario_builder` does basically this, which simplifies the workflow immensly. All one needs to do is supply some basic information and, using default values for ambient conditions, a release scenario is generated."
   ]
  },
  {
   "cell_type": "code",
   "execution_count": 12,
   "id": "31f2221e-11e7-4895-8a29-7482d80d3649",
   "metadata": {},
   "outputs": [
    {
     "data": {
      "text/plain": [
       "Release scenario:\n",
       "    mass_emission_rate: 0.21691154763598 kg/s \n",
       "    release_duration: missing s \n",
       "    jet_diameter: 0.01 m \n",
       "    jet_velocity: 5.636333880812954 m/s \n",
       "    jet_density: 490.0 kg/m^3 \n",
       "    release_pressure: 120935.0368 Pa \n",
       "    release_temperature: 298.15 K \n",
       "    release_height: 0.0 m \n",
       "    windspeed: 1.5 m/s \n",
       "    ambient_density: 1.225 kg/m^3 \n",
       "    ambient_pressure: 101325.0 Pa \n",
       "    ambient_temperature: 298.15 K \n",
       "    pasquill_gifford: F  \n",
       "    "
      ]
     },
     "execution_count": 12,
     "metadata": {},
     "output_type": "execute_result"
    }
   ],
   "source": [
    "scenario_2 = scenario_builder(Pᵣ, Tᵣ; windspeed=u, stability=stability, \n",
    "             model=:jet, phase=:liquid, liquid_density=ρⱼ, \n",
    "             hole_diameter=dⱼ, discharge_coeff=0.63)"
   ]
  },
  {
   "cell_type": "code",
   "execution_count": 13,
   "id": "cc395363-4de3-4fb2-baf1-7bb932535774",
   "metadata": {},
   "outputs": [
    {
     "data": {
      "text/plain": [
       "true"
      ]
     },
     "execution_count": 13,
     "metadata": {},
     "output_type": "execute_result"
    }
   ],
   "source": [
    "scenario_1 == scenario_2"
   ]
  },
  {
   "cell_type": "markdown",
   "id": "cb2d790e-fa85-41e3-9130-e0b3e2af1643",
   "metadata": {},
   "source": [
    "### Ideal Gas Jet\n",
    "\n",
    "TODO\n",
    "\n",
    "### Two-Phase Jet\n",
    "\n",
    "TODO"
   ]
  },
  {
   "cell_type": "code",
   "execution_count": null,
   "id": "e0932ba1-87e7-47e3-8fde-6482061fe9b6",
   "metadata": {},
   "outputs": [],
   "source": []
  }
 ],
 "metadata": {
  "kernelspec": {
   "display_name": "Julia 1.7.2",
   "language": "julia",
   "name": "julia-1.7"
  },
  "language_info": {
   "file_extension": ".jl",
   "mimetype": "application/julia",
   "name": "julia",
   "version": "1.7.2"
  },
  "toc-autonumbering": true
 },
 "nbformat": 4,
 "nbformat_minor": 5
}
