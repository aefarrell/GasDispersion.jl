{
 "cells": [
  {
   "cell_type": "markdown",
   "id": "dc489d2a-551a-4142-b785-02926a885316",
   "metadata": {},
   "source": [
    "# Defining Release Scenarios\n",
    "\n",
    "The whole point of `GasDispersion.jl` is to model chemical releases into the atmosphere, to do this one needs to have a defined chemical release scenario. Unless otherwise specified, the release is treated as a jet release at a given release height, emitting a constant mass emission rate for a given release duration. The coordinate system is centered at the releasse point and at ground level, that is the release point is at *x=0*, *y=0*, *z=h* where *x* is the downwind distance, *y* the cross wind distance, and *z* the elevation. The gas dispersion models require the following parameters to be defined for a given scenario:\n",
    "\n",
    "- mass emission rate, kg/s\n",
    "- release duration, s\n",
    "- jet diameter, m\n",
    "- jet velocity, m/s\n",
    "- jet density, kg/m³\n",
    "- release pressure, Pa\n",
    "- release temperature, K\n",
    "- release height, m\n",
    "- windspeed, m/s\n",
    "- ambient density, kg/m³\n",
    "- ambient pressure, Pa\n",
    "- ambient temperature, K\n",
    "- pasquill stability class\n",
    "\n",
    "Standard methods given in *Lee's Loss Prevention in the Process Industries*, the CCPS texts such as *Guidelines for Consequence Analysis of Chemical Releases*, *Guidelines for Chemical Process Quantitative Risk Analysis*, and *Guidelines for Vapour Cloud Explosion, Pressure Vessel Burst, BLEVE and Flash Fire Hazards*, and many other texts on chemical proess safety can be used to determine all of these parameters and a `Scenario` created directly."
   ]
  },
  {
   "cell_type": "code",
   "execution_count": 1,
   "id": "699f57e8-5d76-4aa6-9b94-15423934e402",
   "metadata": {},
   "outputs": [],
   "source": [
    "using GasDispersion"
   ]
  },
  {
   "cell_type": "code",
   "execution_count": 2,
   "id": "523054e9-0966-4db6-9a8c-988cf5c04a3b",
   "metadata": {},
   "outputs": [
    {
     "data": {
      "text/plain": [
       "Release scenario:\n",
       "    mass_emission_rate: 1.0 kg/s \n",
       "    release_duration: 10.0 s \n",
       "    jet_diameter: 0.25 m \n",
       "    jet_velocity: 15.67 m/s \n",
       "    jet_density: 1.3 kg/m^3 \n",
       "    release_pressure: 101325 Pa \n",
       "    release_temperature: 450 K \n",
       "    release_height: 1.0 m \n",
       "    windspeed: 1.5 m/s \n",
       "    ambient_density: 1.225 kg/m^3 \n",
       "    ambient_pressure: 101325 Pa \n",
       "    ambient_temperature: 298.15 K \n",
       "    pasquill_gifford: F  \n",
       "    "
      ]
     },
     "execution_count": 2,
     "metadata": {},
     "output_type": "execute_result"
    }
   ],
   "source": [
    "scenario = Scenario(\n",
    "    1.0,   # mass emission rate, kg/s\n",
    "    10.0,  # release duration, s\n",
    "    0.25,  # jet diameter, m\n",
    "    15.67, # jet velocity, m/s\n",
    "    1.3,   # jet density, kg/m³\n",
    "    101325,# release_pressure, Pa\n",
    "    450,   # release temperature, K\n",
    "    1.0,   # release height, m\n",
    "    1.5,   # windspeed, m/s\n",
    "    1.225, # ambient density, kg/m³\n",
    "    101325,# ambient pressure, Pa\n",
    "    298.15,# ambient temperature, K\n",
    "    \"F\",   # pasquill stability class\n",
    ")"
   ]
  },
  {
   "cell_type": "markdown",
   "id": "7a1aa4b7-638a-45a4-803f-fb8efb61e8b7",
   "metadata": {},
   "source": [
    "Or by passing a dictionary with the known values (missing values will be set to `missing`)"
   ]
  },
  {
   "cell_type": "code",
   "execution_count": 3,
   "id": "9f84781c-7a0b-45cc-896c-e0af29e9e722",
   "metadata": {},
   "outputs": [
    {
     "data": {
      "text/plain": [
       "Release scenario:\n",
       "    mass_emission_rate: missing kg/s \n",
       "    release_duration: missing s \n",
       "    jet_diameter: missing m \n",
       "    jet_velocity: missing m/s \n",
       "    jet_density: missing kg/m^3 \n",
       "    release_pressure: 101325.0 Pa \n",
       "    release_temperature: 298.15 K \n",
       "    release_height: missing m \n",
       "    windspeed: missing m/s \n",
       "    ambient_density: 1.225 kg/m^3 \n",
       "    ambient_pressure: 101325.0 Pa \n",
       "    ambient_temperature: 298.15 K \n",
       "    pasquill_gifford: missing  \n",
       "    "
      ]
     },
     "execution_count": 3,
     "metadata": {},
     "output_type": "execute_result"
    }
   ],
   "source": [
    "d = Dict([\n",
    "    :release_pressure => 101325,   # Pa\n",
    "    :release_temperature => 298.15,# K\n",
    "    :ambient_density => 1.225,     # kg/m^3\n",
    "    :ambient_pressure => 101325,   # Pa\n",
    "    :ambient_temperature => 298.15,# K\n",
    "])\n",
    "\n",
    "scenario = Scenario(d)"
   ]
  },
  {
   "cell_type": "markdown",
   "id": "1ff7943f-bd92-4c93-ab3a-4bbbf1f67260",
   "metadata": {},
   "source": [
    "Or by passing an existing scenario, and replacing some parameters using keyword arguments"
   ]
  },
  {
   "cell_type": "code",
   "execution_count": 4,
   "id": "aa00d52a-94b1-4d1f-afa5-cd29a9cc3c38",
   "metadata": {},
   "outputs": [
    {
     "data": {
      "text/plain": [
       "Release scenario:\n",
       "    mass_emission_rate: 1.0 kg/s \n",
       "    release_duration: 10.0 s \n",
       "    jet_diameter: missing m \n",
       "    jet_velocity: missing m/s \n",
       "    jet_density: missing kg/m^3 \n",
       "    release_pressure: 101325.0 Pa \n",
       "    release_temperature: 298.15 K \n",
       "    release_height: missing m \n",
       "    windspeed: missing m/s \n",
       "    ambient_density: 1.225 kg/m^3 \n",
       "    ambient_pressure: 101325.0 Pa \n",
       "    ambient_temperature: 298.15 K \n",
       "    pasquill_gifford: missing  \n",
       "    "
      ]
     },
     "execution_count": 4,
     "metadata": {},
     "output_type": "execute_result"
    }
   ],
   "source": [
    "scenario = Scenario(scenario; mass_emission_rate=1.0, release_duration=10.0)"
   ]
  },
  {
   "cell_type": "markdown",
   "id": "993659b4-bbce-4471-a74b-a233d629e3aa",
   "metadata": {},
   "source": [
    "`GasDispersion` also comes with some basic tools for constructing simple release scenarios for common situations\n",
    "\n",
    "## Discharge Through a Hole\n",
    "The easiest is for a discharge through a hole, for example a puncture in the side of a process vessel.\n",
    "\n",
    "### Liquid Discharge\n",
    "Liquid discharge through a small hole can be modeled by the Bernoulli equation, with the jet velocity given by\n",
    "\n",
    "$$ u_j = c_d  \\sqrt{ 2 \\left( P_r - P_a \\over \\rho_l \\right) } $$\n",
    "\n",
    "where\n",
    "- $u_j$ is the jet velocity, m/s\n",
    "- $c_d$ the discharge coefficient, unitless\n",
    "- $P_r$ the release pressure, Pa, i.e. the pressure inside the vessel at the hole\n",
    "- $P_a$ the ambient pressure, Pa, i.e. the pressure outside the hole\n",
    "- $\\rho_l$ the liquid density, kg/m³\n",
    "\n",
    "the mass emission rate is then given by\n",
    "$$ \\dot{m} = \\rho_l A_h u_j $$\n",
    "\n",
    "where $A_h$ is the cross-sectional area of the hole, in m²\n",
    "\n",
    "#### Example\n",
    "\n",
    "Suppose the scenario, identified through a hazard analysis, is for a leak of a liquid from a storage tank through a 10mm hole. The tank headspace is at 0.1 barg and there is 2 m of liquid head above the hole, and the liquid has a density of 490 kg/m³, and is in thermal equilibrium with the environment. Additionally, let's assue a discharge coefficient of 0.63 and a circular hole.\n",
    "\n",
    "For ambient conditions we assume the atmosphere is at ambient conditions of 1atm and 25°C, with a windspeed of 1.5m/s and class F stability.\n",
    "\n",
    "Assumptions:\n",
    "- $c_d = 0.63 $\n",
    "- $D_j = 0.010 \\textrm{m}$\n",
    "- $\\rho_j = \\rho_l = 490 \\textrm{kg/m}^3$\n",
    "- $T_r = 298.15 \\textrm{K}$\n",
    "- $P_a = 101325 \\textrm{Pa}$\n",
    "- $T_a = 298.15 \\textrm{K}$\n",
    "- $\\rho_a = 1.225 \\textrm{kg/m}^3$\n",
    "- $u = 1.5 \\textrm{m/s}$\n",
    "\n",
    "What we need to solve for is\n",
    "- $P_r$, the release pressure, Pa,\n",
    "- $u_j$, the jet velocity, m/s\n",
    "- $\\dot{m}$, the mass emission rate, kg/s"
   ]
  },
  {
   "cell_type": "code",
   "execution_count": 5,
   "id": "e9b731f0-3eef-4425-9654-6e1423075ee0",
   "metadata": {},
   "outputs": [
    {
     "data": {
      "text/plain": [
       "\"F\""
      ]
     },
     "execution_count": 5,
     "metadata": {},
     "output_type": "execute_result"
    }
   ],
   "source": [
    "# What we know\n",
    "g = 9.80616 #m/s²\n",
    "cd = 0.63\n",
    "Dⱼ = 0.010 #m\n",
    "ρⱼ = 490.0 #kg/m³\n",
    "Tᵣ = 298.15 #K\n",
    "Pₐ = 101325.0 #Pa\n",
    "Tₐ = 298.15 #K\n",
    "ρₐ = 1.225 #kg/m³\n",
    "u = 1.5 #m/s\n",
    "stability = \"F\""
   ]
  },
  {
   "cell_type": "markdown",
   "id": "5e3a1ab3-d4ff-48ff-8c39-855889ab1e18",
   "metadata": {},
   "source": [
    "The pressure immediately inside the liquid discharge is the sum of the headspace pressure and the pressure due to the 2 m of liquid head and is\n",
    "\n",
    "$$ P_r = P_{headspace} + \\rho_j g h $$\n",
    "$$ P_r = (10000 Pa + 101325 Pa) + 490 kg/m³ \\cdot 9.80616 m/s² \\cdot 2 m $$"
   ]
  },
  {
   "cell_type": "code",
   "execution_count": 6,
   "id": "59151b4f-702e-4e1e-b92b-975424e47a87",
   "metadata": {},
   "outputs": [
    {
     "data": {
      "text/plain": [
       "120935.0368"
      ]
     },
     "execution_count": 6,
     "metadata": {},
     "output_type": "execute_result"
    }
   ],
   "source": [
    "Pᵣ = (10000 + Pₐ) + ρⱼ*g*2"
   ]
  },
  {
   "cell_type": "code",
   "execution_count": 7,
   "id": "df82ea0a-3de8-46bf-b8e2-4b2ecb80a4e9",
   "metadata": {},
   "outputs": [
    {
     "data": {
      "text/plain": [
       "0.21691154763598"
      ]
     },
     "execution_count": 7,
     "metadata": {},
     "output_type": "execute_result"
    }
   ],
   "source": [
    "uⱼ = cd * √( 2*( (Pᵣ - Pₐ) / ρⱼ) )\n",
    "\n",
    "Aₕ = (π/4)*Dⱼ^2\n",
    "\n",
    "m = ρⱼ*Aₕ*uⱼ"
   ]
  },
  {
   "cell_type": "code",
   "execution_count": 8,
   "id": "29c81387-bba2-48ef-87f7-674ed40afa69",
   "metadata": {},
   "outputs": [
    {
     "data": {
      "text/plain": [
       "Release scenario:\n",
       "    mass_emission_rate: 0.21691154763598 kg/s \n",
       "    release_duration: missing s \n",
       "    jet_diameter: 0.01 m \n",
       "    jet_velocity: 5.636333880812954 m/s \n",
       "    jet_density: 490.0 kg/m^3 \n",
       "    release_pressure: 120935.0368 Pa \n",
       "    release_temperature: 298.15 K \n",
       "    release_height: 0.0 m \n",
       "    windspeed: 1.5 m/s \n",
       "    ambient_density: 1.225 kg/m^3 \n",
       "    ambient_pressure: 101325.0 Pa \n",
       "    ambient_temperature: 298.15 K \n",
       "    pasquill_gifford: F  \n",
       "    "
      ]
     },
     "execution_count": 8,
     "metadata": {},
     "output_type": "execute_result"
    }
   ],
   "source": [
    "s = Dict([\n",
    "    :mass_emission_rate => m,\n",
    "    :jet_diameter => Dⱼ,\n",
    "    :jet_velocity => uⱼ,\n",
    "    :jet_density => ρⱼ,\n",
    "    :release_pressure => Pᵣ,\n",
    "    :release_temperature => Tᵣ,\n",
    "    :release_height => 0.0,\n",
    "    :windspeed => u,\n",
    "    :ambient_density => ρₐ,\n",
    "    :ambient_pressure => Pₐ,\n",
    "    :ambient_temperature => Tₐ,\n",
    "    :pasquill_gifford => stability\n",
    "])\n",
    "\n",
    "scenario_1 = Scenario(s)"
   ]
  },
  {
   "cell_type": "markdown",
   "id": "2410805a-56c5-4f58-8c59-079defc50fd1",
   "metadata": {},
   "source": [
    "We can use the function `scenario_builder` to help simplify this, using default values for ambient conditions and specifying some parameters for the release scenario."
   ]
  },
  {
   "cell_type": "code",
   "execution_count": 9,
   "id": "31f2221e-11e7-4895-8a29-7482d80d3649",
   "metadata": {},
   "outputs": [
    {
     "data": {
      "text/plain": [
       "Release scenario:\n",
       "    mass_emission_rate: 0.21691154763598 kg/s \n",
       "    release_duration: missing s \n",
       "    jet_diameter: 0.01 m \n",
       "    jet_velocity: 5.636333880812954 m/s \n",
       "    jet_density: 490.0 kg/m^3 \n",
       "    release_pressure: 120935.0368 Pa \n",
       "    release_temperature: 298.15 K \n",
       "    release_height: 0.0 m \n",
       "    windspeed: 1.5 m/s \n",
       "    ambient_density: 1.225 kg/m^3 \n",
       "    ambient_pressure: 101325.0 Pa \n",
       "    ambient_temperature: 298.15 K \n",
       "    pasquill_gifford: F  \n",
       "    "
      ]
     },
     "execution_count": 9,
     "metadata": {},
     "output_type": "execute_result"
    }
   ],
   "source": [
    "scenario_2 = scenario_builder(Pᵣ, Tᵣ; windspeed=u, stability=stability, \n",
    "             model=\"jet\", phase=\"liquid\", liquid_density=ρⱼ, hole_diameter=Dⱼ, discharge_coeff=0.63)"
   ]
  },
  {
   "cell_type": "code",
   "execution_count": 10,
   "id": "cc395363-4de3-4fb2-baf1-7bb932535774",
   "metadata": {},
   "outputs": [
    {
     "data": {
      "text/plain": [
       "true"
      ]
     },
     "execution_count": 10,
     "metadata": {},
     "output_type": "execute_result"
    }
   ],
   "source": [
    "scenario_1 == scenario_2"
   ]
  },
  {
   "cell_type": "markdown",
   "id": "cb2d790e-fa85-41e3-9130-e0b3e2af1643",
   "metadata": {},
   "source": [
    "### Gas Discharge\n",
    "\n",
    "TODO\n",
    "\n",
    "### Two-Phase Discharge\n",
    "\n",
    "TODO"
   ]
  }
 ],
 "metadata": {
  "kernelspec": {
   "display_name": "Julia 1.6.1",
   "language": "julia",
   "name": "julia-1.6"
  },
  "language_info": {
   "file_extension": ".jl",
   "mimetype": "application/julia",
   "name": "julia",
   "version": "1.6.1"
  }
 },
 "nbformat": 4,
 "nbformat_minor": 5
}
