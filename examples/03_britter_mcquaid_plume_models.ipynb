{
 "cells": [
  {
   "cell_type": "markdown",
   "id": "294a660d-c458-46e8-b4bf-e663503d6dfe",
   "metadata": {},
   "source": [
    "# Britter-McQuaid Dense Gas Plume Model\n",
    "\n",
    "The Britter-McQuaid model is based on the *Workbook on the Dispersion of Dense Gases*, by R.E. Ritter and J. McQuaid, and is a series of correlations relating maximum centerline concentrations to downwind distances that are based upon actual releases.\n",
    "\n"
   ]
  },
  {
   "cell_type": "code",
   "execution_count": null,
   "id": "b4bdee03-c42f-4425-a66a-1148a57a1edd",
   "metadata": {},
   "outputs": [],
   "source": []
  }
 ],
 "metadata": {
  "kernelspec": {
   "display_name": "Julia 1.8.2",
   "language": "julia",
   "name": "julia-1.8"
  },
  "language_info": {
   "file_extension": ".jl",
   "mimetype": "application/julia",
   "name": "julia",
   "version": "1.8.2"
  }
 },
 "nbformat": 4,
 "nbformat_minor": 5
}
